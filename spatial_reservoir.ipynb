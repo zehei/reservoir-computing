{
 "cells": [
  {
   "cell_type": "code",
   "execution_count": 6,
   "metadata": {
    "collapsed": true
   },
   "outputs": [],
   "source": [
    "from mpl_toolkits.mplot3d import Axes3D\n",
    "import matplotlib.pyplot as plt\n",
    "import numpy as np   "
   ]
  },
  {
   "cell_type": "code",
   "execution_count": null,
   "metadata": {
    "collapsed": true
   },
   "outputs": [],
   "source": [
    "def generate_spatial_structure(num_nodes, container_size, shape=\"cuboid\", distribution=\"random\"):\n",
    "    dim = len(container_size)\n",
    "    if shape==\"cuboid\":\n",
    "        nodes_coordinates = []\n",
    "        for axis in range(dim):\n",
    "            length = container_size[axis]\n",
    "            if distribution==\"random\":\n",
    "                nodes_coordinates.append(np.random.rand(num_nodes)*length - length/2)\n",
    "            elif distribution==\"evenly\" and num_nodes:\n",
    "                #nodes_coordinates.append(np.linspace(-length/2, length/2, num_nodes))\n",
    "                print(\"unfinished\")\n",
    "            else:\n",
    "                print(\"unfinished\")\n",
    "    return np.asarray(nodes_coordinates).T\n",
    "\n",
    "def determine_position(nodes_coordinates, position=[0,0,0], rotation=[0,0,0]):\n",
    "    dim = nodes_coordinates.shape[1]\n",
    "    if len(position)==dim and len(rotation)==dim:\n",
    "        nodes_coordinates += position\n",
    "        rotation_matrix = np.eye(dim)\n",
    "        nodes_coordinates *= rotation\n",
    "    else:\n",
    "        print(\"The dimension of the position or rotation matrix is not the same with the reservoir\")\n",
    "    return nodes_coordinates\n",
    "\n",
    "def plot(nodes_coordinates):\n",
    "    nodes_dimension = nodes_coordinates.shape[1]\n",
    "    if nodes_dimension>3:\n",
    "        print(\"The dimension of the spacial reservoir is greater than 3\")\n",
    "        return 0\n",
    "    elif nodes_dimension==3:\n",
    "        fig = plt.figure()\n",
    "        ax = fig.add_subplot(111, projection='3d')\n",
    "        c = nodes_coordinates\n",
    "        ax.scatter(c[:,0], c[:,1], c[:,2], color=\"blue\", s=3)\n",
    "    elif nodes_dimension==2:\n",
    "        fig = plt.figure()\n",
    "        c = nodes_coordinates\n",
    "        plt.scatter(c[:,0], c[:,1], color=\"blue\", s=3)\n",
    "    else:\n",
    "        print(\"The dimension of the spacial reservoir is less than 2\")"
   ]
  },
  {
   "cell_type": "code",
   "execution_count": 139,
   "metadata": {
    "collapsed": true,
    "scrolled": true
   },
   "outputs": [],
   "source": [
    "class neuron_cluster(conta)\n",
    "class new_network(dim_input, dim_reservoir, dim_output)"
   ]
  },
  {
   "cell_type": "code",
   "execution_count": 2,
   "metadata": {},
   "outputs": [
    {
     "ename": "NameError",
     "evalue": "name 'reduce' is not defined",
     "output_type": "error",
     "traceback": [
      "\u001b[1;31m---------------------------------------------------------------------------\u001b[0m",
      "\u001b[1;31mNameError\u001b[0m                                 Traceback (most recent call last)",
      "\u001b[1;32m<ipython-input-2-fcb2f10e988f>\u001b[0m in \u001b[0;36m<module>\u001b[1;34m()\u001b[0m\n\u001b[1;32m----> 1\u001b[1;33m \u001b[0mreduce\u001b[0m\u001b[1;33m\u001b[0m\u001b[0m\n\u001b[0m",
      "\u001b[1;31mNameError\u001b[0m: name 'reduce' is not defined"
     ]
    }
   ],
   "source": []
  }
 ],
 "metadata": {
  "kernelspec": {
   "display_name": "Python 3",
   "language": "python",
   "name": "python3"
  },
  "language_info": {
   "codemirror_mode": {
    "name": "ipython",
    "version": 3
   },
   "file_extension": ".py",
   "mimetype": "text/x-python",
   "name": "python",
   "nbconvert_exporter": "python",
   "pygments_lexer": "ipython3",
   "version": "3.6.3"
  }
 },
 "nbformat": 4,
 "nbformat_minor": 2
}
