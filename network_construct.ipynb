{
 "cells": [
  {
   "cell_type": "code",
   "execution_count": 19,
   "metadata": {},
   "outputs": [],
   "source": [
    "import numpy as np\n",
    "from network_structure.reservoir import reservoir\n",
    "import path, os"
   ]
  },
  {
   "cell_type": "code",
   "execution_count": 3,
   "metadata": {
    "collapsed": true
   },
   "outputs": [],
   "source": [
    "dim_input = 4\n",
    "dim_reservoir = 1000\n",
    "dim_output = 3"
   ]
  },
  {
   "cell_type": "code",
   "execution_count": 10,
   "metadata": {},
   "outputs": [
    {
     "name": "stdout",
     "output_type": "stream",
     "text": [
      "size of the reservoir: 4 1000 3\n",
      "activation function type: sigmoid\n",
      "leaking_rate: 0.2\n",
      "the range of the weight inp2res is [-3.49903, -0.00093] and [+0.00048, +3.51214], sparsity:1.00000\n",
      "the range of the weight res2res is [-0.26205, -0.00000] and [+0.00000, +0.24407], sparsity:1.00000\n",
      "the range of the weight res2out is [+0.00000, +0.00000] and [+0.00042, +0.99964], sparsity:1.00000\n",
      "the range of the weight out2res is [-3.58931, -0.00108] and [+0.00083, +3.63430], sparsity:1.00000\n",
      "the current spectral radius is 1.634147\n"
     ]
    }
   ],
   "source": [
    "r = reservoir(num_inp=dim_input, num_res=dim_reservoir, num_out=dim_output)\n",
    "r.connect(\"inp2res\", weight_type=\"normal\")\n",
    "r.connect(\"res2res\", weight_type=\"normal\", scaling=1/20)\n",
    "r.connect(\"res2out\", weight_type=\"uniform\", scaling=1, shifting=0)\n",
    "r.connect(\"out2res\", weight_type=\"normal\")\n",
    "r.set_activation_function()\n",
    "r.set_leaking_rate()\n",
    "#r.cut_weight_with_threshold(\"res2out\", 0.01)\n",
    "r.show_reservoir_status()"
   ]
  },
  {
   "cell_type": "code",
   "execution_count": 12,
   "metadata": {},
   "outputs": [
    {
     "name": "stdout",
     "output_type": "stream",
     "text": [
      "storage_network/three_bit_flip_flop/dim_inp4_res1000_out3_sr163\n"
     ]
    }
   ],
   "source": [
    "task_name = \"three_bit_flip_flop\"\n",
    "global_parameter = \"dim_inp\" + str(dim_input) + \"_res\" + str(dim_reservoir) + \"_out\" + str(dim_output)\n",
    "parameter = \"_sr163\"\n",
    "file_name = path.network + \"/\" + task_name + \"/\" + global_parameter + parameter\n",
    "print(file_name)"
   ]
  },
  {
   "cell_type": "code",
   "execution_count": 17,
   "metadata": {},
   "outputs": [],
   "source": [
    "#os.mkdir(path.network)\n",
    "#os.mkdir(path.network + \"/\" + task_name)\n",
    "np.save(file_name, r)"
   ]
  },
  {
   "cell_type": "code",
   "execution_count": null,
   "metadata": {
    "collapsed": true
   },
   "outputs": [],
   "source": []
  }
 ],
 "metadata": {
  "kernelspec": {
   "display_name": "Python 3",
   "language": "python",
   "name": "python3"
  },
  "language_info": {
   "codemirror_mode": {
    "name": "ipython",
    "version": 3
   },
   "file_extension": ".py",
   "mimetype": "text/x-python",
   "name": "python",
   "nbconvert_exporter": "python",
   "pygments_lexer": "ipython3",
   "version": "3.6.3"
  }
 },
 "nbformat": 4,
 "nbformat_minor": 2
}
