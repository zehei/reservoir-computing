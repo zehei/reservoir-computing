{
 "cells": [
  {
   "cell_type": "code",
   "execution_count": 1,
   "metadata": {
    "scrolled": true
   },
   "outputs": [],
   "source": [
    "import numpy as np\n",
    "from mpl_toolkits.mplot3d import Axes3D\n",
    "import matplotlib.pyplot as plt\n",
    "from network_structure.reservoir import reservoir\n",
    "from network_structure.spatial_reservoir import spatial_network\n",
    "import path, os\n",
    "from time import time"
   ]
  },
  {
   "cell_type": "markdown",
   "metadata": {},
   "source": [
    "### Initialize the Reservoir"
   ]
  },
  {
   "cell_type": "code",
   "execution_count": 141,
   "metadata": {},
   "outputs": [],
   "source": [
    "size_inp = \"1_1_3\"\n",
    "size_res = \"40_5_5\"\n",
    "size_out = \"1_1_3\"\n",
    "\n",
    "r = spatial_network(3)\n",
    "r.set_size_of(\"inp\", [int(ele) for ele in size_inp.split(\"_\")])\n",
    "r.generate_spatial_structure_of(\"inp\", container_size=[1,1,6], distribution=\"uniform\")\n",
    "r.embedding_of(\"inp\", axis=[])\n",
    "r.set_position_and_rotation_of(\"inp\", position=[-20,0,0])\n",
    "\n",
    "r.set_size_of(\"res\", [int(ele) for ele in size_res.split(\"_\")])\n",
    "r.generate_spatial_structure_of(\"res\", container_size=[40,5,5])\n",
    "r.embedding_of(\"res\", axis=[])\n",
    "r.set_position_and_rotation_of(\"res\", position=[0,0,0])\n",
    "\n",
    "r.set_size_of(\"out\", [int(ele) for ele in size_out.split(\"_\")])\n",
    "r.generate_spatial_structure_of(\"out\", container_size=[1,1,6], distribution=\"uniform\")\n",
    "r.embedding_of(\"out\", axis=[])\n",
    "r.set_position_and_rotation_of(\"out\", position=[20,0,0])\n",
    "r.initial_weight()"
   ]
  },
  {
   "cell_type": "markdown",
   "metadata": {},
   "source": [
    "### Define Distance Function for Generating the Weight"
   ]
  },
  {
   "cell_type": "code",
   "execution_count": 142,
   "metadata": {},
   "outputs": [
    {
     "name": "stdout",
     "output_type": "stream",
     "text": [
      "0.8607079764250578 0.5488116360940264 0.25924026064589156\n",
      "3.059023205018258e-07 0.023517745856009107 0.18887560283756177\n"
     ]
    }
   ],
   "source": [
    "def distance(x,y):\n",
    "    return np.exp(-0.05*(x-y)**2)\n",
    "#attention to the sum of axiss!!(here I use multiply operation)\n",
    "print(distance(1,2)**3, distance(1,3)**3, distance(1,4)**3)\n",
    "def distance_inv(x,y):\n",
    "    return np.exp(-1*5/(x-y)**2)\n",
    "#attention to the sum of axiss!!(here I use multiply operation)\n",
    "print(distance_inv(1,2)**3, distance_inv(1,3)**3, distance_inv(1,4)**3)"
   ]
  },
  {
   "cell_type": "markdown",
   "metadata": {},
   "source": [
    "### Connect The Reservoir"
   ]
  },
  {
   "cell_type": "code",
   "execution_count": 143,
   "metadata": {
    "scrolled": true
   },
   "outputs": [
    {
     "name": "stdout",
     "output_type": "stream",
     "text": [
      "1540.9299244880676\n",
      "size of the reservoir: 3 1000 3\n",
      "activation function type: sigmoid\n",
      "leaking_rate: 0.2\n",
      "the range of the weight inp2res is [+0.00000, +0.00000] and [+0.00000, +1.00000], sparsity:1.00000\n",
      "the range of the weight res2res is [-1.00000, -0.00000] and [+0.00000, +1.00000], sparsity:0.63744\n",
      "the range of the weight res2out is [+0.00000, +0.00000] and [+0.00000, +0.00000], sparsity:1.00000\n",
      "the range of the weight out2res is [+0.00000, +0.00000] and [+0.00000, +0.00000], sparsity:1.00000\n",
      "the current spectral radius is 21.880298\n",
      "0.3118300437927246\n"
     ]
    }
   ],
   "source": [
    "r.add_sign(0.5)\n",
    "r.connect_with_coordinates(\"inp2res\", distance_function=distance)\n",
    "r.connect_with_coordinates(\"res2res\", distance_function=distance, scaling=1)\n",
    "#r.connect_with_coordinates(\"out2res\", distance_function=distance)\n",
    "function_type = \"sigmoid\"\n",
    "#function_type = \"no_activation\"\n",
    "r.set_activation_function(function_type)\n",
    "r.set_leaking_rate()\n",
    "print(time()-a)\n",
    "a = time()\n",
    "#r.cut_weight_with_threshold(\"inp2res\", threshold_lower=0.001)\n",
    "r.cut_weight_with_threshold(\"res2res\", threshold_lower=0.000001, threshold_upper=1.1)\n",
    "r.show_reservoir_status()\n",
    "print(time()-a)"
   ]
  },
  {
   "cell_type": "markdown",
   "metadata": {},
   "source": [
    "### Prune"
   ]
  },
  {
   "cell_type": "code",
   "execution_count": 144,
   "metadata": {},
   "outputs": [
    {
     "name": "stdout",
     "output_type": "stream",
     "text": [
      "size of the reservoir: 3 1000 3\n",
      "activation function type: sigmoid\n",
      "leaking_rate: 0.2\n",
      "the range of the weight inp2res is [+0.00000, +0.00000] and [+0.00000, +1.00000], sparsity:1.00000\n",
      "the range of the weight res2res is [-1.00000, -0.70002] and [+0.70002, +1.00000], sparsity:0.05069\n",
      "the range of the weight res2out is [+0.00000, +0.00000] and [+0.00000, +0.00000], sparsity:1.00000\n",
      "the range of the weight out2res is [+0.00000, +0.00000] and [+0.00000, +0.00000], sparsity:1.00000\n",
      "the current spectral radius is 15.295809\n"
     ]
    }
   ],
   "source": [
    "#r.cut_weight_with_threshold(\"inp2res\", threshold_lower=0.001)\n",
    "r.cut_weight_with_threshold(\"res2res\", threshold_lower=0.7, threshold_upper=1)\n",
    "r.show_reservoir_status()"
   ]
  },
  {
   "cell_type": "markdown",
   "metadata": {},
   "source": [
    "### Adjust Spectral Radius"
   ]
  },
  {
   "cell_type": "code",
   "execution_count": null,
   "metadata": {},
   "outputs": [],
   "source": [
    "sr_of_matrix = []\n",
    "max_sr_of_submatrices = []\n",
    "for i in range(5):\n",
    "    r.show_reservoir_status(update_without_printout=True)\n",
    "    sr_of_matrix.append(r.spectral_radius)\n",
    "    r.adjust_all_spectral_radius_to_value(nodes_type=\"res\", sr=1, loops=1)\n",
    "    srl = []\n",
    "    for index_node in range(r.num[\"res\"]):\n",
    "        _, sr = r.get_connection_situation_of(\"res\", index_node)\n",
    "        srl.append(sr)\n",
    "    srl = np.asarray(srl)\n",
    "    max_sr_of_submatrices.append(np.max(srl))\n",
    "    print(sr_of_matrix[i], max_sr_of_submatrices[i])"
   ]
  },
  {
   "cell_type": "markdown",
   "metadata": {},
   "source": [
    "### Generate Toy Input"
   ]
  },
  {
   "cell_type": "code",
   "execution_count": null,
   "metadata": {},
   "outputs": [],
   "source": [
    "inp = np.zeros([1, 1200])\n",
    "for i in range(5):\n",
    "    index = np.random.randint(800)\n",
    "    for j in range(30):\n",
    "        inp[0, index+j] = 1\n",
    "#        inp[1, index+j] = -1\n",
    "xx = np.linspace(0,1000,1200)\n",
    "plt.plot(xx, inp[0])\n",
    "plt.show()"
   ]
  },
  {
   "cell_type": "markdown",
   "metadata": {},
   "source": [
    "### Plot Reservoir Evolution"
   ]
  },
  {
   "cell_type": "code",
   "execution_count": null,
   "metadata": {},
   "outputs": [],
   "source": [
    "plt.close()\n",
    "r.set_activation_function(\"sigmoid\")\n",
    "r.clear_value()\n",
    "a = time() \n",
    "scale = np.asarray(r.spectral_radius_list)\n",
    "#fig = plt.figure(figsize=[12,8])\n",
    "#ax = fig.add_subplot(111, projection='3d')\n",
    "for i in range(1000):\n",
    "    fig = plt.figure(figsize=[15,8])\n",
    "    ax = fig.add_subplot(111, projection='3d')\n",
    "    r.run(inp.T[i])\n",
    "    r.plot_coordinates(ax, \"inp\", nodes_size=100, nodes_color=r.value[\"inp\"][:,0], vmin=-0.1, vmax=0.1)\n",
    "    r.plot_coordinates(ax, \"res\", nodes_size=10, nodes_color=r.update[\"res\"][:,0], vmin=-0.00002, vmax=0.00002)\n",
    "    print(i, np.min(r.update[\"res\"]), np.max(r.update[\"res\"]))\n",
    "    plt.savefig(\"iamge_structure/anime_\"+str(i))\n",
    "    plt.close()\n",
    "plt.savefig(\"spatial_reservoir\")\n",
    "print(time()-a)"
   ]
  },
  {
   "cell_type": "markdown",
   "metadata": {
    "collapsed": true
   },
   "source": [
    "### Plot Reservoir with Weight"
   ]
  },
  {
   "cell_type": "code",
   "execution_count": null,
   "metadata": {
    "collapsed": true
   },
   "outputs": [],
   "source": [
    "a = time()\n",
    "fig = plt.figure(figsize=[12,8])\n",
    "ax = fig.add_subplot(111, projection='3d')\n",
    "weight_list = [\"res2res\"]\n",
    "for weight in weight_list:\n",
    "    r.plot_weight(ax, weight, linewidth=0.2)\n",
    "plt.savefig(\"spatial_reservoir_15\", dpi=800)\n",
    "plt.show()\n",
    "print(time()-a)"
   ]
  },
  {
   "cell_type": "markdown",
   "metadata": {},
   "source": [
    "### Save Reservoir"
   ]
  },
  {
   "cell_type": "code",
   "execution_count": null,
   "metadata": {
    "collapsed": true
   },
   "outputs": [],
   "source": [
    "function_type = \"sigmoid\"\n",
    "#function_type = \"no_activation\"\n",
    "#function_type = \"relu\"\n",
    "r.set_activation_function(function_type)\n",
    "task_name = \"three_bit_flip_flop\"\n",
    "#task_name = \"narma\"\n",
    "global_parameter = \"size_inp\" + size_inp + \"_res\" + size_res + \"_out\" + size_out\n",
    "parameter = \"_sr134_\" + \"sparsity0049_\" + function_type\n",
    "file_name = path.spatial_network + \"/\" + task_name + \"/\" + global_parameter + parameter\n",
    "print(file_name)\n",
    "#os.mkdir(path.network)\n",
    "#os.mkdir(path.spatial_network)\n",
    "#os.mkdir(path.spatial_network + \"/\" + task_name)\n",
    "np.save(file_name, r)"
   ]
  },
  {
   "cell_type": "markdown",
   "metadata": {
    "collapsed": true
   },
   "source": [
    "### Plot Weight"
   ]
  },
  {
   "cell_type": "code",
   "execution_count": null,
   "metadata": {
    "collapsed": true
   },
   "outputs": [],
   "source": [
    "c = r.sort_weight()\n",
    "start = 0\n",
    "end = 100\n",
    "weight_local = r.weight[\"res2res\"][start:end, start:end]\n",
    "linspace = np.linspace(1, weight_local.shape[0], weight_local.shape[0])\n",
    "grid = np.asarray([[i,j] for i in linspace for j in linspace])\n",
    "\n",
    "plt.figure(figsize=[12,8])\n",
    "from matplotlib import cm\n",
    "plt.scatter(grid[:,0], grid[:,1], \n",
    "            c=weight_local.reshape(-1), cmap=\"RdYlGn\", vmin=-2, vmax=2, s=10, marker=\"s\")\n",
    "plt.show()"
   ]
  },
  {
   "cell_type": "code",
   "execution_count": null,
   "metadata": {
    "collapsed": true
   },
   "outputs": [],
   "source": []
  }
 ],
 "metadata": {
  "kernelspec": {
   "display_name": "Python 3",
   "language": "python",
   "name": "python3"
  },
  "language_info": {
   "codemirror_mode": {
    "name": "ipython",
    "version": 3
   },
   "file_extension": ".py",
   "mimetype": "text/x-python",
   "name": "python",
   "nbconvert_exporter": "python",
   "pygments_lexer": "ipython3",
   "version": "3.6.3"
  }
 },
 "nbformat": 4,
 "nbformat_minor": 2
}
