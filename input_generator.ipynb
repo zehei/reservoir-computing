{
 "cells": [
  {
   "cell_type": "code",
   "execution_count": null,
   "metadata": {
    "collapsed": true
   },
   "outputs": [],
   "source": [
    "import numpy as np\n",
    "import matplotlib.pyplot as plt\n",
    "from tools import add_bias, plot\n",
    "import path, os"
   ]
  },
  {
   "cell_type": "code",
   "execution_count": null,
   "metadata": {
    "collapsed": true
   },
   "outputs": [],
   "source": [
    "#input generator for three bit flip flop\n",
    "test = \"\"\n",
    "test = \"test\"\n",
    "task_name = \"three_bit_flip_flop\"\n",
    "import input_generator.three_bit_flip_flop as tbff\n",
    "dim_input = \"3\"\n",
    "dim_output = \"3\"\n",
    "input_duration = \"2e3\"\n",
    "num_pulses = \"1e2\"\n",
    "inp, tar = tbff.generate_input_and_target(int(eval(dim_input)), \n",
    "                                          int(eval(dim_output)), \n",
    "                                          input_duration = int(eval(input_duration)), \n",
    "                                          num_pulses = int(eval(num_pulses)))\n",
    "#inp = add_bias(inp, amplitude=0)"
   ]
  },
  {
   "cell_type": "code",
   "execution_count": null,
   "metadata": {},
   "outputs": [],
   "source": [
    "global_parameter = \"dim_inp\" + str(dim_input) + \"_out\" + str(dim_output)\n",
    "parameter = \"_len_\" + input_duration + \"_numpulse_\" + num_pulses\n",
    "file_name = path.inp + \"/\" + task_name + \"/\" + global_parameter + parameter + test\n",
    "print(file_name)\n",
    "#os.mkdir(path.inp)\n",
    "#os.mkdir(path.inp + \"/\" + task_name)\n",
    "np.save(file_name, [inp, tar])"
   ]
  },
  {
   "cell_type": "code",
   "execution_count": null,
   "metadata": {
    "collapsed": true
   },
   "outputs": [],
   "source": [
    "#input generator for mnist\n",
    "task_name = \"mnist\""
   ]
  },
  {
   "cell_type": "code",
   "execution_count": null,
   "metadata": {},
   "outputs": [],
   "source": [
    "#NARMA task\n",
    "#generate input\n",
    "n = 10\n",
    "test = \"\"\n",
    "#test = \"test\"\n",
    "task_name = \"narma\"\n",
    "duration = \"1e6\"\n",
    "u = np.random.rand(int(eval(duration)))/2\n",
    "#generate target\n",
    "y = np.zeros(u.shape)\n",
    "alpha = 0.3\n",
    "beta = 0.02\n",
    "gamma = 1.5\n",
    "delta = 0.1\n",
    "for t in range(n,len(u)):\n",
    "    sum_y = 0\n",
    "    for i in range(n):\n",
    "        sum_y += y[t-i]\n",
    "    y[t] = alpha*y[t-1] + beta*y[t-1]*sum_y + gamma*u[t-n] + delta\n",
    "xx = np.linspace(0,len(u),len(u))\n",
    "plt.plot(xx, u)\n",
    "plt.plot(xx, y)\n",
    "plt.show()\n",
    "inp = u.reshape([1,-1])\n",
    "tar = y.reshape([1,-1])"
   ]
  },
  {
   "cell_type": "code",
   "execution_count": null,
   "metadata": {},
   "outputs": [],
   "source": [
    "global_parameter = \"n_\" + str(n)\n",
    "parameter = \"_len_\" + duration\n",
    "file_name = path.inp + \"/\" + task_name + \"/\" + global_parameter + parameter + test\n",
    "print(file_name)\n",
    "#os.mkdir(path.inp)\n",
    "#os.mkdir(path.inp + \"/\" + task_name)\n",
    "np.save(file_name, [inp, tar])"
   ]
  }
 ],
 "metadata": {
  "kernelspec": {
   "display_name": "Python 3",
   "language": "python",
   "name": "python3"
  },
  "language_info": {
   "codemirror_mode": {
    "name": "ipython",
    "version": 3
   },
   "file_extension": ".py",
   "mimetype": "text/x-python",
   "name": "python",
   "nbconvert_exporter": "python",
   "pygments_lexer": "ipython3",
   "version": "3.6.3"
  }
 },
 "nbformat": 4,
 "nbformat_minor": 2
}
