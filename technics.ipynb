{
 "cells": [
  {
   "cell_type": "code",
   "execution_count": null,
   "metadata": {},
   "outputs": [],
   "source": [
    "#1.colormap\n",
    "import matplotlib.pyplot as plt\n",
    "from matplotlib import cm\n",
    "from math import sin\n",
    "\n",
    "x=range(10)\n",
    "y=[sin(i) for i in x]\n",
    "#colors=np.linspace(0,1,10)\n",
    "B=[1.29,1.27,1.46,0.91,0.56,0.99,1.00,0.37,1.24,1.23]\n",
    "\n",
    "cs = plt.scatter(x,y,c=B,cmap=cm.jet,vmin=-10.,vmax=2.)\n",
    "plt.colorbar(cs)\n",
    "plt.show()"
   ]
  },
  {
   "cell_type": "code",
   "execution_count": null,
   "metadata": {
    "collapsed": true
   },
   "outputs": [],
   "source": [
    "添加正负号\n",
    "添加colormap"
   ]
  }
 ],
 "metadata": {
  "kernelspec": {
   "display_name": "Python 3",
   "language": "python",
   "name": "python3"
  },
  "language_info": {
   "codemirror_mode": {
    "name": "ipython",
    "version": 3
   },
   "file_extension": ".py",
   "mimetype": "text/x-python",
   "name": "python",
   "nbconvert_exporter": "python",
   "pygments_lexer": "ipython3",
   "version": "3.6.3"
  }
 },
 "nbformat": 4,
 "nbformat_minor": 2
}
