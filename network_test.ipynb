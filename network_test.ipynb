{
 "cells": [
  {
   "cell_type": "code",
   "execution_count": null,
   "metadata": {
    "collapsed": true
   },
   "outputs": [],
   "source": [
    "import numpy as np\n",
    "import path, os\n",
    "import matplotlib.pyplot as plt\n",
    "from tools import plot"
   ]
  },
  {
   "cell_type": "code",
   "execution_count": null,
   "metadata": {},
   "outputs": [],
   "source": [
    "task_name = \"narma\"\n",
    "task_name = \"three_bit_flip_flop\"\n",
    "\n",
    "#load saved reservoir\n",
    "folder_name = path.spatial_network + \"/\" + task_name + \"/\"\n",
    "file_list = os.listdir(folder_name)\n",
    "for file in file_list:\n",
    "    print(file_list.index(file), file)"
   ]
  },
  {
   "cell_type": "code",
   "execution_count": null,
   "metadata": {
    "collapsed": true
   },
   "outputs": [],
   "source": [
    "index = 9\n",
    "file_name = folder_name + file_list[index]\n",
    "r = np.load(file_name).item()"
   ]
  },
  {
   "cell_type": "code",
   "execution_count": null,
   "metadata": {},
   "outputs": [],
   "source": [
    "#load input and target\n",
    "folder_name = path.inp + \"/\" + task_name + \"/\"\n",
    "file_list = os.listdir(folder_name)\n",
    "for file in file_list:\n",
    "    print(file)"
   ]
  },
  {
   "cell_type": "code",
   "execution_count": null,
   "metadata": {},
   "outputs": [],
   "source": [
    "index = 1\n",
    "file_name = folder_name + file_list[index]\n",
    "inp_series, tar_series = np.load(file_name)\n",
    "out_series = r.test(inp_series.T).T"
   ]
  },
  {
   "cell_type": "code",
   "execution_count": null,
   "metadata": {},
   "outputs": [],
   "source": [
    "plot(inp=inp_series.T, output=out_series.T, target=tar_series.T, axis=0, start=0.75, end=0.8)\n",
    "plt.show()"
   ]
  },
  {
   "cell_type": "code",
   "execution_count": null,
   "metadata": {},
   "outputs": [],
   "source": [
    "plt.close()\n",
    "r.set_activation_function(\"sigmoid\")\n",
    "r.clear_value()\n",
    "scale = np.asarray(r.spectral_radius_list)\n",
    "#fig = plt.figure(figsize=[12,8])\n",
    "#ax = fig.add_subplot(111, projection='3d')\n",
    "for i in range(1000):\n",
    "    fig = plt.figure(figsize=[15,8])\n",
    "    ax = fig.add_subplot(111, projection='3d')\n",
    "    r.run(inp_series.T[i+1000])\n",
    "    \n",
    "    r.plot_coordinates(ax, \"inp\", nodes_size=100, nodes_color=r.value[\"inp\"][:,0], \n",
    "                       vmin=-0.1, vmax=0.1)\n",
    "    w = np.array([np.linalg.norm(x) for x in r.weight[\"res2res\"]])\n",
    "    r.plot_coordinates(ax, \"res\", nodes_size=10, nodes_color=r.update[\"res\"][:,0]*w, \n",
    "                       vmin=-0.000002, vmax=0.00002)\n",
    "    \n",
    "    r.plot_coordinates(ax, \"out\", nodes_size=100, nodes_color=r.value[\"inp\"][:,0], \n",
    "                       vmin=-0.1, vmax=0.1)\n",
    "    print(i, np.min(r.update[\"res\"]), np.max(r.update[\"res\"]))\n",
    "    plt.savefig(\"iamge_structure/anime_\"+str(i))\n",
    "    plt.close()\n",
    "plt.savefig(\"spatial_reservoir\")"
   ]
  }
 ],
 "metadata": {
  "kernelspec": {
   "display_name": "Python 3",
   "language": "python",
   "name": "python3"
  },
  "language_info": {
   "codemirror_mode": {
    "name": "ipython",
    "version": 3
   },
   "file_extension": ".py",
   "mimetype": "text/x-python",
   "name": "python",
   "nbconvert_exporter": "python",
   "pygments_lexer": "ipython3",
   "version": "3.6.3"
  }
 },
 "nbformat": 4,
 "nbformat_minor": 2
}
